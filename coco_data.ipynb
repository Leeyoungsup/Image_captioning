{
 "cells": [
  {
   "cell_type": "code",
   "execution_count": null,
   "metadata": {},
   "outputs": [],
   "source": [
    "import requests\n",
    "import zipfile\n",
    "import os\n",
    "\n",
    "def download_and_extract(url, extract_to='.'):\n",
    "    local_filename = url.split('/')[-1]\n",
    "    # Download the file\n",
    "    with requests.get(url, stream=True) as r:\n",
    "        r.raise_for_status()\n",
    "        with open(local_filename, 'wb') as f:\n",
    "            for chunk in r.iter_content(chunk_size=8192):\n",
    "                f.write(chunk)\n",
    "    # Extract the file\n",
    "    with zipfile.ZipFile(local_filename, 'r') as zip_ref:\n",
    "        zip_ref.extractall(extract_to)\n",
    "    os.remove(local_filename)  # Clean up the zip file\n",
    "\n",
    "# URL for the COCO 2014 captions annotations\n",
    "coco_captions_url = 'http://images.cocodataset.org/annotations/annotations_trainval2014.zip'\n",
    "\n",
    "# Download and extract\n",
    "download_and_extract(coco_captions_url, 'coco2014')\n",
    "\n",
    "print(\"Download and extraction complete.\")"
   ]
  },
  {
   "cell_type": "code",
   "execution_count": null,
   "metadata": {},
   "outputs": [],
   "source": [
    "import os\n",
    "import urllib.request\n",
    "\n",
    "def download_coco_dataset(year='2014', data_type='train', output_dir='coco'):\n",
    "    base_url = \"http://images.cocodataset.org/zips/\"\n",
    "    file_name = f\"{data_type}{year}.zip\"\n",
    "    url = base_url + file_name\n",
    "    output_path = os.path.join(output_dir, file_name)\n",
    "\n",
    "    if not os.path.exists(output_dir):\n",
    "        os.makedirs(output_dir)\n",
    "\n",
    "    print(f\"Downloading {file_name} to {output_path} ...\")\n",
    "    urllib.request.urlretrieve(url, output_path)\n",
    "    print(f\"Downloaded {file_name} to {output_path}\")\n",
    "\n",
    "    # Unzip the dataset\n",
    "    print(f\"Unzipping {output_path} ...\")\n",
    "    import zipfile\n",
    "    with zipfile.ZipFile(output_path, 'r') as zip_ref:\n",
    "        zip_ref.extractall(output_dir)\n",
    "    print(f\"Unzipped {file_name} in {output_dir}\")\n",
    "\n",
    "# Example usage:\n",
    "download_coco_dataset(year='2014', data_type='train', output_dir='coco')\n",
    "download_coco_dataset(year='2014', data_type='val', output_dir='coco')"
   ]
  },
  {
   "cell_type": "code",
   "execution_count": null,
   "metadata": {},
   "outputs": [],
   "source": [
    "download_coco_dataset(year='2014', data_type='test', output_dir='coco')"
   ]
  }
 ],
 "metadata": {
  "kernelspec": {
   "display_name": "LeeYS",
   "language": "python",
   "name": "python3"
  },
  "language_info": {
   "codemirror_mode": {
    "name": "ipython",
    "version": 3
   },
   "file_extension": ".py",
   "mimetype": "text/x-python",
   "name": "python",
   "nbconvert_exporter": "python",
   "pygments_lexer": "ipython3",
   "version": "3.9.0"
  }
 },
 "nbformat": 4,
 "nbformat_minor": 2
}
