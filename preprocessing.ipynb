{
 "cells": [
  {
   "cell_type": "code",
   "execution_count": null,
   "metadata": {},
   "outputs": [],
   "source": [
    "import numpy as np\n",
    "import matplotlib.pyplot as plts\n",
    "import json\n",
    "from glob import glob\n",
    "import pandas as pd\n",
    "from copy import copy\n",
    "from PIL import Image\n",
    "from tqdm import tqdm\n",
    "import googletrans\n",
    "import time"
   ]
  },
  {
   "cell_type": "code",
   "execution_count": null,
   "metadata": {},
   "outputs": [],
   "source": [
    "with open('../../data/coco/captions_train2014.json', 'r') as file:\n",
    "    train_captions_data = json.load(file)\n",
    "with open('../../data/coco/captions_val2014.json', 'r') as file:\n",
    "    val_captions_data = json.load(file)"
   ]
  },
  {
   "cell_type": "code",
   "execution_count": null,
   "metadata": {},
   "outputs": [],
   "source": [
    "\n",
    "train_annotation=train_captions_data['annotations']\n",
    "images=train_captions_data['images']\n",
    "train_annotation = pd.DataFrame(train_annotation)\n",
    "for i in range(len(train_annotation)):\n",
    "    number=str(train_annotation.loc[i,'image_id']).zfill(12)\n",
    "    train_annotation.loc[i,'image_id']='COCO_train2014_'+number+'.jpg'"
   ]
  },
  {
   "cell_type": "code",
   "execution_count": null,
   "metadata": {},
   "outputs": [],
   "source": [
    "val_annotation=val_captions_data['annotations']\n",
    "images=val_captions_data['images']\n",
    "val_annotation = pd.DataFrame(val_annotation)\n",
    "for i in range(len(val_annotation)):\n",
    "    number=str(val_annotation.loc[i,'image_id']).zfill(12)\n",
    "    val_annotation.loc[i,'image_id']='COCO_val2014_'+number+'.jpg'"
   ]
  },
  {
   "cell_type": "code",
   "execution_count": null,
   "metadata": {},
   "outputs": [],
   "source": [
    "train_annotation=train_annotation.rename(columns={'image_id':'image_file'})\n",
    "val_annotation=val_annotation.rename(columns={'image_id':'image_file'})\n",
    "train_annotation.to_csv('../../data/coco/train_annotation.csv',index=False)\n",
    "val_annotation.to_csv('../../data/coco/val_annotation.csv',index=False)"
   ]
  },
  {
   "cell_type": "code",
   "execution_count": null,
   "metadata": {},
   "outputs": [],
   "source": [
    "train_image_list=glob('../../data/coco/train/*.jpg')\n",
    "train_save_image_list=[i.replace('/coco/','/dataset/coco/') for i in train_image_list]\n",
    "val_image_list=glob('../../data/coco/val/*.jpg')\n",
    "val_save_image_list=[i.replace('/coco/','/dataset/coco/') for i in val_image_list]"
   ]
  },
  {
   "cell_type": "code",
   "execution_count": null,
   "metadata": {},
   "outputs": [],
   "source": [
    "for i in tqdm(range(len(train_image_list))):\n",
    "    image=Image.open(train_image_list[i]).resize((512,512))\n",
    "    image.save(train_save_image_list[i])\n",
    "    \n",
    "for i in tqdm(range(len(val_image_list))):\n",
    "    image=Image.open(val_image_list[i]).resize((512,512))\n",
    "    image.save(val_save_image_list[i])"
   ]
  },
  {
   "cell_type": "code",
   "execution_count": null,
   "metadata": {},
   "outputs": [],
   "source": [
    "translator = googletrans.Translator()\n",
    "train_df=pd.read_csv('../../data/dataset/coco/train_annotation.csv')\n",
    "val_df=pd.read_csv('../../data/dataset/coco/val_annotation.csv')\n",
    "\n"
   ]
  },
  {
   "cell_type": "code",
   "execution_count": null,
   "metadata": {},
   "outputs": [],
   "source": [
    "for i in tqdm(range(568,len(train_df))):\n",
    "    str1=train_df.loc[i,'caption']\n",
    "    result1 = translator.translate(str1, dest='ko')\n",
    "    time.sleep(1)\n",
    "    train_df.loc[i,'caption']=result1.text\n",
    "\n",
    "for i in tqdm(range(len(val_df))):\n",
    "    str1=val_df.loc[i,'caption']\n",
    "    result1 = translator.translate(str1, dest='ko')\n",
    "    time.sleep(1)\n",
    "    val_df.loc[i,'caption']=result1.text\n",
    "train_df.to_csv('../../data/coco/train_ko_annotation.csv',index=False)\n",
    "val_df.to_csv('../../data/coco/val_ko_annotation.csv',index=False)"
   ]
  },
  {
   "cell_type": "code",
   "execution_count": null,
   "metadata": {},
   "outputs": [],
   "source": [
    "train_df.loc[567]"
   ]
  }
 ],
 "metadata": {
  "kernelspec": {
   "display_name": "LeeYS",
   "language": "python",
   "name": "python3"
  },
  "language_info": {
   "codemirror_mode": {
    "name": "ipython",
    "version": 3
   },
   "file_extension": ".py",
   "mimetype": "text/x-python",
   "name": "python",
   "nbconvert_exporter": "python",
   "pygments_lexer": "ipython3",
   "version": "3.9.-1"
  }
 },
 "nbformat": 4,
 "nbformat_minor": 2
}
