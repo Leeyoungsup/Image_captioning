{
 "cells": [
  {
   "cell_type": "code",
   "execution_count": 1,
   "metadata": {},
   "outputs": [],
   "source": [
    "import numpy as np\n",
    "import matplotlib.pyplot as plts\n",
    "import json\n",
    "import pandas as pd\n",
    "from copy import copy\n",
    "from PIL import Image"
   ]
  },
  {
   "cell_type": "code",
   "execution_count": 2,
   "metadata": {},
   "outputs": [],
   "source": [
    "with open('../../data/coco/captions_train2014.json', 'r') as file:\n",
    "    train_captions_data = json.load(file)\n",
    "with open('../../data/coco/captions_val2014.json', 'r') as file:\n",
    "    val_captions_data = json.load(file)"
   ]
  },
  {
   "cell_type": "code",
   "execution_count": 3,
   "metadata": {},
   "outputs": [],
   "source": [
    "\n",
    "train_annotation=train_captions_data['annotations']\n",
    "images=train_captions_data['images']\n",
    "train_annotation = pd.DataFrame(train_annotation)\n",
    "for i in range(len(train_annotation)):\n",
    "    number=str(train_annotation.loc[i,'image_id']).zfill(12)\n",
    "    train_annotation.loc[i,'image_id']='COCO_train2014_'+number+'.jpg'"
   ]
  },
  {
   "cell_type": "code",
   "execution_count": 4,
   "metadata": {},
   "outputs": [],
   "source": [
    "val_annotation=val_captions_data['annotations']\n",
    "images=val_captions_data['images']\n",
    "val_annotation = pd.DataFrame(val_annotation)\n",
    "for i in range(len(val_annotation)):\n",
    "    number=str(val_annotation.loc[i,'image_id']).zfill(12)\n",
    "    val_annotation.loc[i,'image_id']='COCO_val2014_'+number+'.jpg'"
   ]
  },
  {
   "cell_type": "code",
   "execution_count": 8,
   "metadata": {},
   "outputs": [],
   "source": [
    "train_annotation=train_annotation.rename(columns={'image_id':'image_file'})\n",
    "val_annotation=val_annotation.rename(columns={'image_id':'image_file'})\n",
    "train_annotation.to_csv('../../data/coco/train_annotation.csv',index=False)\n",
    "val_annotation.to_csv('../../data/coco/val_annotation.csv',index=False)"
   ]
  }
 ],
 "metadata": {
  "kernelspec": {
   "display_name": "LeeYS",
   "language": "python",
   "name": "python3"
  },
  "language_info": {
   "codemirror_mode": {
    "name": "ipython",
    "version": 3
   },
   "file_extension": ".py",
   "mimetype": "text/x-python",
   "name": "python",
   "nbconvert_exporter": "python",
   "pygments_lexer": "ipython3",
   "version": "3.9.-1"
  }
 },
 "nbformat": 4,
 "nbformat_minor": 2
}
